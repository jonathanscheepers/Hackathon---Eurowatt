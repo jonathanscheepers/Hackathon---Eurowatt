{
 "cells": [
  {
   "cell_type": "code",
   "execution_count": 2,
   "metadata": {},
   "outputs": [],
   "source": [
    "import pandas as pd\n",
    "from bs4 import BeautifulSoup\n",
    "import requests"
   ]
  },
  {
   "cell_type": "code",
   "execution_count": 3,
   "metadata": {},
   "outputs": [
    {
     "output_type": "execute_result",
     "data": {
      "text/plain": "           Lat         Long Sentiment Score  \\\n0  50.47302641  2.714583784               0   \n1  49.64274139  2.807721477          -0.125   \n\n                               Tokenised Translation  \\\n0                                                 []   \n1  ['Am', 'anxious', 'see', 'next', 'week', 'chil...   \n\n                    Datetime Retweets Favourites         Username    Geo  \\\n0  2020-03-17 15:36:03+00:00        0          1  little_eolienne  22276   \n1  2020-03-18 05:10:15+00:00        0          0           lud592  25011   \n\n  Formula  \n0   54190  \n1   49328  ",
      "text/html": "<div>\n<style scoped>\n    .dataframe tbody tr th:only-of-type {\n        vertical-align: middle;\n    }\n\n    .dataframe tbody tr th {\n        vertical-align: top;\n    }\n\n    .dataframe thead th {\n        text-align: right;\n    }\n</style>\n<table border=\"1\" class=\"dataframe\">\n  <thead>\n    <tr style=\"text-align: right;\">\n      <th></th>\n      <th>Lat</th>\n      <th>Long</th>\n      <th>Sentiment Score</th>\n      <th>Tokenised Translation</th>\n      <th>Datetime</th>\n      <th>Retweets</th>\n      <th>Favourites</th>\n      <th>Username</th>\n      <th>Geo</th>\n      <th>Formula</th>\n    </tr>\n  </thead>\n  <tbody>\n    <tr>\n      <th>0</th>\n      <td>50.47302641</td>\n      <td>2.714583784</td>\n      <td>0</td>\n      <td>[]</td>\n      <td>2020-03-17 15:36:03+00:00</td>\n      <td>0</td>\n      <td>1</td>\n      <td>little_eolienne</td>\n      <td>22276</td>\n      <td>54190</td>\n    </tr>\n    <tr>\n      <th>1</th>\n      <td>49.64274139</td>\n      <td>2.807721477</td>\n      <td>-0.125</td>\n      <td>['Am', 'anxious', 'see', 'next', 'week', 'chil...</td>\n      <td>2020-03-18 05:10:15+00:00</td>\n      <td>0</td>\n      <td>0</td>\n      <td>lud592</td>\n      <td>25011</td>\n      <td>49328</td>\n    </tr>\n  </tbody>\n</table>\n</div>"
     },
     "metadata": {},
     "execution_count": 3
    }
   ],
   "source": [
    "## reading th CSV and using only the columns with the tweet content (for now)\n",
    "train_tweets = pd.read_csv('C:\\Users\\JMSch\\Documents\\MEGA\\05_Paris\\ESCP Business School\\MSc Big Data & Business Analytics\\Research Methods II\\Sentiment analysis\\\\SentimentCoordinates.csv', dtype=str)\n",
    "## train_tweets = pd.read_csv('C:\\\\Users\\\\JMSch\\OneDrive\\\\Eurowatt - Hackathon\\\\Sentiment analysis\\\\eolienne-0k-tweets.csv', dtype=str, usecols=[2])\n",
    "\n",
    "train_tweets[:2]"
   ]
  },
  {
   "cell_type": "code",
   "execution_count": 62,
   "metadata": {},
   "outputs": [
    {
     "output_type": "stream",
     "name": "stdout",
     "text": "https://www.twitter.com/little_eolienne\n6\nhttps://www.twitter.com/lud592\n3\nhttps://www.twitter.com/datkush94\n97\nhttps://www.twitter.com/BotEohlienne\n9\nhttps://www.twitter.com/BotEohlienne\n9\nhttps://www.twitter.com/BotEohlienne\n9\nhttps://www.twitter.com/Lavraienergie\n8\nhttps://www.twitter.com/BotEohlienne\n9\nhttps://www.twitter.com/BotEohlienne\n9\nhttps://www.twitter.com/StickyFingaa\n273\nhttps://www.twitter.com/BotEohlienne\n9\nhttps://www.twitter.com/Lasseye_Eric\n385\nhttps://www.twitter.com/RunvegM\n97\nhttps://www.twitter.com/MWindtrap\n18\nhttps://www.twitter.com/YvonBerthou\n17\nhttps://www.twitter.com/BotEohlienne\n9\nhttps://www.twitter.com/BenjiLAREDO\n2226\nhttps://www.twitter.com/#VALUE!\nAccount name not found...\nhttps://www.twitter.com/LLGrangeon\n255\nhttps://www.twitter.com/BotEohlienne\n9\nhttps://www.twitter.com/krevetor2\n51\nhttps://www.twitter.com/ERG_France\n446\nhttps://www.twitter.com/TALESOFTHEWORD\n9\nhttps://www.twitter.com/Lavraienergie\n8\nhttps://www.twitter.com/leolienne____\n87\nhttps://www.twitter.com/Kopecz93\n1672\nhttps://www.twitter.com/prisonFR\n449\nhttps://www.twitter.com/DeEolienne\n6\nhttps://www.twitter.com/Alexand57446782\n2\nhttps://www.twitter.com/petitarnaud13\n136\nhttps://www.twitter.com/LP_Acheron\n379\nhttps://www.twitter.com/#VALUE!\nAccount name not found...\nhttps://www.twitter.com/odilonyt\n11\nhttps://www.twitter.com/CasalisArnaud\n20\nhttps://www.twitter.com/leolienne____\n87\nhttps://www.twitter.com/RenaudCamus\n39513\nhttps://www.twitter.com/ericvidalenc\n6397\nhttps://www.twitter.com/bcassoret\n2448\nhttps://www.twitter.com/CasalisArnaud\n20\nhttps://www.twitter.com/mjul23\n150\nhttps://www.twitter.com/BarreauxJean\n1437\nhttps://www.twitter.com/#VALUE!\nAccount name not found...\nhttps://www.twitter.com/leolienne____\n87\nhttps://www.twitter.com/CasalisArnaud\n20\nhttps://www.twitter.com/GuglielminaD\n1335\nhttps://www.twitter.com/#VALUE!\nAccount name not found...\nhttps://www.twitter.com/SoScrat\n453\nhttps://www.twitter.com/DeEolienne\n6\nhttps://www.twitter.com/patriciav170285\n535\nhttps://www.twitter.com/lo_mrtn23\n276\nhttps://www.twitter.com/#VALUE!\nAccount name not found...\nhttps://www.twitter.com/PHandavukya\n50\nhttps://www.twitter.com/Atchafalaya_\n47\nhttps://www.twitter.com/lesvues52\n391\nhttps://www.twitter.com/obstine78\n1228\nhttps://www.twitter.com/benoitpraderie\n1248\nhttps://www.twitter.com/RMacronistan\n46\nhttps://www.twitter.com/Donpiche\n112\nhttps://www.twitter.com/BotEohlienne\n9\nhttps://www.twitter.com/BotEohlienne\n9\nhttps://www.twitter.com/BotEohlienne\n9\nhttps://www.twitter.com/Onaniste75\n30\nhttps://www.twitter.com/BotEohlienne\n9\nhttps://www.twitter.com/BotEohlienne\n9\nhttps://www.twitter.com/LesSmartGrids\n5803\nhttps://www.twitter.com/Patichon\n24\nhttps://www.twitter.com/JanusJT\n152\nhttps://www.twitter.com/StickyFingaa\n273\nhttps://www.twitter.com/BotEohlienne\n9\nhttps://www.twitter.com/Turblog\n5145\nhttps://www.twitter.com/BotEohlienne\n9\nhttps://www.twitter.com/BotEohlienne\n9\nhttps://www.twitter.com/BotEohlienne\n9\nhttps://www.twitter.com/BotEohlienne\n9\nhttps://www.twitter.com/QcSurvieUrbaine\n115\nhttps://www.twitter.com/BotEohlienne\n9\nhttps://www.twitter.com/Jeanloulou8\n534\nhttps://www.twitter.com/Alouicerlia\n2896\nhttps://www.twitter.com/LesSmartGrids\n5803\nhttps://www.twitter.com/DeEolienne\n6\nhttps://www.twitter.com/DeEolienne\n6\nhttps://www.twitter.com/LandemaineH\n126\nhttps://www.twitter.com/#VALUE!\nAccount name not found...\nhttps://www.twitter.com/GreenUnivers\n8403\nhttps://www.twitter.com/_KMotion_\n48\nhttps://www.twitter.com/little_eolienne\n6\nhttps://www.twitter.com/BotEohlienne\n9\nhttps://www.twitter.com/WabinessBenelux\n29\nhttps://www.twitter.com/BotEohlienne\n9\nhttps://www.twitter.com/Lavraienergie\n8\nhttps://www.twitter.com/BotEohlienne\n9\nhttps://www.twitter.com/BotEohlienne\n9\nhttps://www.twitter.com/#VALUE!\nAccount name not found...\nhttps://www.twitter.com/BotEohlienne\n9\nhttps://www.twitter.com/BotEohlienne\n9\nhttps://www.twitter.com/CapoisL23292586\n13673\nhttps://www.twitter.com/Phileas20_20\n71\nhttps://www.twitter.com/Cobynss\n714\nhttps://www.twitter.com/towersight\n11407\nhttps://www.twitter.com/BotEohlienne\n9\nhttps://www.twitter.com/BotEohlienne\n9\nhttps://www.twitter.com/BotEohlienne\n9\nhttps://www.twitter.com/atDarK4EveR\n243\nhttps://www.twitter.com/BotEohlienne\n9\nhttps://www.twitter.com/BotEohlienne\n9\nhttps://www.twitter.com/BalvaJoseph\n572\nhttps://www.twitter.com/BotEohlienne\n9\nhttps://www.twitter.com/Chris_2b\n47\nhttps://www.twitter.com/2030_horizon\n4\nhttps://www.twitter.com/BotEohlienne\n9\nhttps://www.twitter.com/BotEohlienne\n9\nhttps://www.twitter.com/BotEohlienne\n9\nhttps://www.twitter.com/BotEohlienne\n9\nhttps://www.twitter.com/BotEohlienne\n9\nhttps://www.twitter.com/Old_Faithfull\n26\nhttps://www.twitter.com/BotEohlienne\n9\nhttps://www.twitter.com/schmittdetonge\n103\nhttps://www.twitter.com/schmittdetonge\n103\nhttps://www.twitter.com/Slava1942\n84\nhttps://www.twitter.com/QuinteroXXXIII\n132\nhttps://www.twitter.com/7_ans_de_MMA\n2673\nhttps://www.twitter.com/PurpleFalcor\n29\nhttps://www.twitter.com/PurpleFalcor\n29\nhttps://www.twitter.com/DrSynAck\n111\nhttps://www.twitter.com/newmaterialbot\n17\nhttps://www.twitter.com/GeromeBailleul\n268\nhttps://www.twitter.com/LesSmartGrids\n5803\nhttps://www.twitter.com/BotEohlienne\n9\nhttps://www.twitter.com/BotEohlienne\n9\nhttps://www.twitter.com/BotEohlienne\n9\nhttps://www.twitter.com/BotEohlienne\n9\nhttps://www.twitter.com/eolienne10\n5\nhttps://www.twitter.com/BotEohlienne\n9\nhttps://www.twitter.com/GreenUnivers\n8403\nhttps://www.twitter.com/BotEohlienne\n9\nhttps://www.twitter.com/RenaudCamus\n39513\nhttps://www.twitter.com/taiiemen\n50\nhttps://www.twitter.com/PurpleFalcor\n29\nhttps://www.twitter.com/odilonyt\n11\nhttps://www.twitter.com/_nana971\n502\nhttps://www.twitter.com/#VALUE!\nAccount name not found...\nhttps://www.twitter.com/erouanjikel\n9\nhttps://www.twitter.com/CasalisArnaud\n20\nhttps://www.twitter.com/rioujeanpierre\n3680\nhttps://www.twitter.com/strunk_sigrun\n51\nhttps://www.twitter.com/AnantaRebel\n210\nhttps://www.twitter.com/alain_co\n2128\nhttps://www.twitter.com/Shinico15\n265\nhttps://www.twitter.com/SocialoSceptik\n689\nhttps://www.twitter.com/el_morce\n70\nhttps://www.twitter.com/Guedi_Lucas\n15\nhttps://www.twitter.com/Padre_Natas81\n115\nhttps://www.twitter.com/fabjemappe\n167\nhttps://www.twitter.com/Timbuck_3\n6\nhttps://www.twitter.com/maxcordiez\n3869\nhttps://www.twitter.com/alain_co\n2128\nhttps://www.twitter.com/kalala\n2555\nhttps://www.twitter.com/AccteesContact\n471\nhttps://www.twitter.com/Orygeen_fr\n81\nhttps://www.twitter.com/CasalisArnaud\n20\nhttps://www.twitter.com/YobJini\n235\nhttps://www.twitter.com/#VALUE!\nAccount name not found...\nhttps://www.twitter.com/Loup_Garry\n495\nhttps://www.twitter.com/VINCENTSOSPIRI\n26\nhttps://www.twitter.com/little_eolienne\n6\nhttps://www.twitter.com/#VALUE!\nAccount name not found...\nhttps://www.twitter.com/#VALUE!\nAccount name not found...\nhttps://www.twitter.com/#VALUE!\nAccount name not found...\nhttps://www.twitter.com/#VALUE!\nAccount name not found...\nhttps://www.twitter.com/LesSmartGrids\n5803\nhttps://www.twitter.com/BenjiLAREDO\n2226\nhttps://www.twitter.com/EcosourceCanada\n1764\nhttps://www.twitter.com/EcosourceCanada\n1764\nhttps://www.twitter.com/MWindtrap\n18\nhttps://www.twitter.com/Asiolum\n17\nhttps://www.twitter.com/BotEohlienne\n9\nhttps://www.twitter.com/MWindtrap\n18\nhttps://www.twitter.com/MWindtrap\n18\nhttps://www.twitter.com/#VALUE!\nAccount name not found...\nhttps://www.twitter.com/BotEohlienne\n9\nhttps://www.twitter.com/thibdavy\n171\nhttps://www.twitter.com/MWindtrap\n18\nhttps://www.twitter.com/BotEohlienne\n9\nhttps://www.twitter.com/#VALUE!\nAccount name not found...\nhttps://www.twitter.com/BotEohlienne\n9\nhttps://www.twitter.com/MWindtrap\n18\nhttps://www.twitter.com/MWindtrap\n18\nhttps://www.twitter.com/BotEohlienne\n9\nhttps://www.twitter.com/MWindtrap\n18\nhttps://www.twitter.com/BotEohlienne\n9\nhttps://www.twitter.com/MWindtrap\n18\nhttps://www.twitter.com/ArchivesON\n340\nhttps://www.twitter.com/coganfr\n247\n"
    }
   ],
   "source": [
    "twitter_url = \"https://www.twitter.com\" \n",
    "user_list = train_tweets['Username']\n",
    "follower_list = []\n",
    "\n",
    "for user in user_list:\n",
    "    try:\n",
    "        print(f\"{twitter_url}/{user}\")\n",
    "        temp = requests.get(f\"{twitter_url}/{user}\") \n",
    "        bs = BeautifulSoup(temp.text,'lxml')\n",
    "        follow_box = bs.find('li',{'class':'ProfileNav-item ProfileNav-item--followers'})\n",
    "        followers = follow_box.find('a').find('span',{'class':'ProfileNav-value'})\n",
    "        fol_num = \"{}\".format(followers.get('data-count'))\n",
    "        print(fol_num)\n",
    "        follower_list.append(fol_num)\n",
    "    except:\n",
    "        follower_list.append('error')\n",
    "        print('Account name not found...')\n",
    " \n",
    "train_tweets['Followers'] = follower_list"
   ]
  },
  {
   "cell_type": "code",
   "execution_count": 64,
   "metadata": {},
   "outputs": [],
   "source": [
    "train_tweets.to_csv(r'C:\\Users\\JMSch\\Documents\\MEGA\\05_Paris\\ESCP Business School\\MSc Big Data & Business Analytics\\Research Methods II\\Sentiment Analysis Twitter WITH FOLLOWERS.csv', index = False)"
   ]
  }
 ],
 "metadata": {
  "kernelspec": {
   "display_name": "Python 3",
   "language": "python",
   "name": "python3"
  },
  "language_info": {
   "codemirror_mode": {
    "name": "ipython",
    "version": 3
   },
   "file_extension": ".py",
   "mimetype": "text/x-python",
   "name": "python",
   "nbconvert_exporter": "python",
   "pygments_lexer": "ipython3",
   "version": "3.8.1-final"
  }
 },
 "nbformat": 4,
 "nbformat_minor": 2
}